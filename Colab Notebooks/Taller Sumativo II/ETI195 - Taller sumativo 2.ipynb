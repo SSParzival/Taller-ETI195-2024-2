{
 "cells": [
  {
   "cell_type": "markdown",
   "metadata": {},
   "source": [
    "<center><h1> ETI195 - Ética para Ciencia de Datos y Estadística </h1><center>\n",
    "<center><h2> Lab Sumativo 2: Fairness <h2></center>"
   ]
  },
  {
   "cell_type": "markdown",
   "metadata": {},
   "source": [
    "## Contexto:\n",
    "\n",
    "El set de datos llamado **\"adult dataset\"** o **\"census income dataset\"** contiene datos demográficos y financieros de personas, como su edad, nivel educativo, estado civil, ocupación, relación familiar, entre otros. Su principal finalidad es determinar si una persona percibe un ingreso anual de más o menos de $50,000, siendo así un problema de clasificación binaria. Este conjunto de datos se considera delicado debido a que contiene información personal e ingresos, por lo que regularmente se emplea para enseñar y poner en práctica procesos de análisis de datos de forma ética y responsable.\n",
    "\n",
    "En la presente tarea se entrega la versión de este dataset disponible en [AIF360](https://aif360.readthedocs.io/en/stable/modules/generated/aif360.datasets.AdultDataset.html#aif360.datasets.AdultDataset), con algunas modificaciones. El objetivo es evaluar la implementación de los toolkits Aequitas y AIF360 en el contexto de este dataset.\n",
    "## Instrucciones:\n",
    "\n",
    "- La siguiente tarea es **individual**. \n",
    "- Fecha de entrega: Viernes 4 de octubre 23:59, en Canvas."
   ]
  },
  {
   "cell_type": "markdown",
   "metadata": {},
   "source": [
    "## Import necesarios"
   ]
  },
  {
   "cell_type": "code",
   "execution_count": 1,
   "metadata": {},
   "outputs": [],
   "source": [
    "# Coloque aquí todas las importaciones necesarias.\n",
    "\n",
    "import pandas as pd"
   ]
  },
  {
   "cell_type": "code",
   "execution_count": 2,
   "metadata": {},
   "outputs": [
    {
     "data": {
      "text/html": [
       "<div>\n",
       "<style scoped>\n",
       "    .dataframe tbody tr th:only-of-type {\n",
       "        vertical-align: middle;\n",
       "    }\n",
       "\n",
       "    .dataframe tbody tr th {\n",
       "        vertical-align: top;\n",
       "    }\n",
       "\n",
       "    .dataframe thead th {\n",
       "        text-align: right;\n",
       "    }\n",
       "</style>\n",
       "<table border=\"1\" class=\"dataframe\">\n",
       "  <thead>\n",
       "    <tr style=\"text-align: right;\">\n",
       "      <th></th>\n",
       "      <th>age</th>\n",
       "      <th>workclass</th>\n",
       "      <th>education</th>\n",
       "      <th>education-num</th>\n",
       "      <th>marital-status</th>\n",
       "      <th>occupation</th>\n",
       "      <th>relationship</th>\n",
       "      <th>race</th>\n",
       "      <th>sex</th>\n",
       "      <th>capital-gain</th>\n",
       "      <th>capital-loss</th>\n",
       "      <th>hours-per-week</th>\n",
       "      <th>native-country</th>\n",
       "      <th>income</th>\n",
       "    </tr>\n",
       "  </thead>\n",
       "  <tbody>\n",
       "    <tr>\n",
       "      <th>0</th>\n",
       "      <td>25.0</td>\n",
       "      <td>Private</td>\n",
       "      <td>11th</td>\n",
       "      <td>7.0</td>\n",
       "      <td>Never-married</td>\n",
       "      <td>Machine-op-inspct</td>\n",
       "      <td>Own-child</td>\n",
       "      <td>Black</td>\n",
       "      <td>Male</td>\n",
       "      <td>0.0</td>\n",
       "      <td>0.0</td>\n",
       "      <td>40.0</td>\n",
       "      <td>United-States</td>\n",
       "      <td>&lt;=50K</td>\n",
       "    </tr>\n",
       "    <tr>\n",
       "      <th>1</th>\n",
       "      <td>38.0</td>\n",
       "      <td>Private</td>\n",
       "      <td>HS-grad</td>\n",
       "      <td>9.0</td>\n",
       "      <td>Married-civ-spouse</td>\n",
       "      <td>Farming-fishing</td>\n",
       "      <td>Husband</td>\n",
       "      <td>White</td>\n",
       "      <td>Male</td>\n",
       "      <td>0.0</td>\n",
       "      <td>0.0</td>\n",
       "      <td>50.0</td>\n",
       "      <td>United-States</td>\n",
       "      <td>&lt;=50K</td>\n",
       "    </tr>\n",
       "    <tr>\n",
       "      <th>2</th>\n",
       "      <td>28.0</td>\n",
       "      <td>Local-gov</td>\n",
       "      <td>Assoc-acdm</td>\n",
       "      <td>12.0</td>\n",
       "      <td>Married-civ-spouse</td>\n",
       "      <td>Protective-serv</td>\n",
       "      <td>Husband</td>\n",
       "      <td>White</td>\n",
       "      <td>Male</td>\n",
       "      <td>0.0</td>\n",
       "      <td>0.0</td>\n",
       "      <td>40.0</td>\n",
       "      <td>United-States</td>\n",
       "      <td>&gt;50K</td>\n",
       "    </tr>\n",
       "    <tr>\n",
       "      <th>3</th>\n",
       "      <td>44.0</td>\n",
       "      <td>Private</td>\n",
       "      <td>Some-college</td>\n",
       "      <td>10.0</td>\n",
       "      <td>Married-civ-spouse</td>\n",
       "      <td>Machine-op-inspct</td>\n",
       "      <td>Husband</td>\n",
       "      <td>Black</td>\n",
       "      <td>Male</td>\n",
       "      <td>7688.0</td>\n",
       "      <td>0.0</td>\n",
       "      <td>40.0</td>\n",
       "      <td>United-States</td>\n",
       "      <td>&gt;50K</td>\n",
       "    </tr>\n",
       "    <tr>\n",
       "      <th>4</th>\n",
       "      <td>34.0</td>\n",
       "      <td>Private</td>\n",
       "      <td>10th</td>\n",
       "      <td>6.0</td>\n",
       "      <td>Never-married</td>\n",
       "      <td>Other-service</td>\n",
       "      <td>Not-in-family</td>\n",
       "      <td>White</td>\n",
       "      <td>Male</td>\n",
       "      <td>0.0</td>\n",
       "      <td>0.0</td>\n",
       "      <td>30.0</td>\n",
       "      <td>United-States</td>\n",
       "      <td>&lt;=50K</td>\n",
       "    </tr>\n",
       "  </tbody>\n",
       "</table>\n",
       "</div>"
      ],
      "text/plain": [
       "    age  workclass     education  education-num      marital-status  \\\n",
       "0  25.0    Private          11th            7.0       Never-married   \n",
       "1  38.0    Private       HS-grad            9.0  Married-civ-spouse   \n",
       "2  28.0  Local-gov    Assoc-acdm           12.0  Married-civ-spouse   \n",
       "3  44.0    Private  Some-college           10.0  Married-civ-spouse   \n",
       "4  34.0    Private          10th            6.0       Never-married   \n",
       "\n",
       "          occupation   relationship   race   sex  capital-gain  capital-loss  \\\n",
       "0  Machine-op-inspct      Own-child  Black  Male           0.0           0.0   \n",
       "1    Farming-fishing        Husband  White  Male           0.0           0.0   \n",
       "2    Protective-serv        Husband  White  Male           0.0           0.0   \n",
       "3  Machine-op-inspct        Husband  Black  Male        7688.0           0.0   \n",
       "4      Other-service  Not-in-family  White  Male           0.0           0.0   \n",
       "\n",
       "   hours-per-week native-country income  \n",
       "0            40.0  United-States  <=50K  \n",
       "1            50.0  United-States  <=50K  \n",
       "2            40.0  United-States   >50K  \n",
       "3            40.0  United-States   >50K  \n",
       "4            30.0  United-States  <=50K  "
      ]
     },
     "execution_count": 2,
     "metadata": {},
     "output_type": "execute_result"
    }
   ],
   "source": [
    "# Lectura del archivo a analizar\n",
    "\n",
    "df = pd.read_csv('adult_data.csv')\n",
    "df.head()"
   ]
  },
  {
   "cell_type": "markdown",
   "metadata": {},
   "source": [
    "### Pregunta 1: Realice el pre-procesamiento de los datos e implemente un modelo de clasificación (Regresión Logística). Obtenga el accuracy del modelo sobre los datos de testeo (1 pto).\n",
    "\n",
    "#### Indicaciones adicionales:\n",
    "\n",
    "- Recuerde utilizar random_state o seeds según sea necesario para la reproducibilidad de sus resultados.\n",
    "- Recuerde comentar brevemente los resultados obtenidos."
   ]
  },
  {
   "cell_type": "markdown",
   "metadata": {},
   "source": [
    "### Pregunta 2: Evalúe las clasificaciones del modelo de la pregunta anterior a través de las métricas de Fairness facilitadas en Aequitas (1 pto).\n",
    "\n",
    "#### Indicaciones adicionales:\n",
    "\n",
    "- Considere como mínimo los atributos demográficos de `sex` y `race`, y de acuerdo a intervalos que fije cree el atributo `age_cat` de `age` para la obtención de las métricas de Fairness.\n",
    "- Recuerde comentar brevemente los resultados obtenidos, y determinar según lo visto en los talleres la significancia de los resultados obtenidos.\n",
    "- ¿Cuán -justas- se pueden considerar las predicciones del modelo? \n",
    "- ¿Qué dan a interpretar las métricas de Fairness obtenidas para este caso?"
   ]
  },
  {
   "cell_type": "markdown",
   "metadata": {},
   "source": [
    "### Pregunta 3: Aplique el algoritmo EqOddsPostProcessing sobre las predicciones del modelo de la pregunta 1. Obtenga las predicciones modificadas y evalúelas. ¿Qué cambios hubo en las métricas de Fairness? (2 ptos). \n",
    "\n",
    "#### Indicaciones adicionales:\n",
    "\n",
    "- Obtenga tanto las instancias de BinaryLabelDatasetMetric como de ClassificationMetric y calcule al menos una métrica de Fairness.\n",
    "- Recuerde comentar brevemente los resultados obtenidos, y evaluar críticamente los cambios en las métricas de Fairness.\n"
   ]
  },
  {
   "cell_type": "markdown",
   "metadata": {},
   "source": [
    "### Pregunta 4: Aplique el algoritmo de Reweighing sobre los datos de entrenamiento. Compare las métricas de Fairness para los datos de entrenamiento antes y después de aplicar Reweighing. Luego, entrene un modelo de Regresión Logística utilizando los datos de entrenamiento modificados y obtenga las métricas de Fairness de las predicciones de dicho modelo. ¿Cómo varió el accuracy del modelo respecto al original y las métricas de Fairness? (2 ptos).\n",
    "\n",
    "#### Indicaciones adicionales:\n",
    "\n",
    "- Considere 'Black' como grupo no privilegiado para la raza, 'White' como grupo privilegiado para la raza.\n",
    "- Considere 'Female' como grupo no privilegiado para el sexo, 'Male' como grupo privilegiado para el sexo.\n",
    "- Recuerde comentar brevemente los resultados obtenidos, y evaluar críticamente los cambios en las métricas de Fairness (se sugiere comparar con los resultados obtenidos en las preguntas 2 y 3).\n"
   ]
  }
 ],
 "metadata": {
  "kernelspec": {
   "display_name": "Python 3",
   "language": "python",
   "name": "python3"
  },
  "language_info": {
   "codemirror_mode": {
    "name": "ipython",
    "version": 3
   },
   "file_extension": ".py",
   "mimetype": "text/x-python",
   "name": "python",
   "nbconvert_exporter": "python",
   "pygments_lexer": "ipython3",
   "version": "3.11.7"
  }
 },
 "nbformat": 4,
 "nbformat_minor": 4
}
